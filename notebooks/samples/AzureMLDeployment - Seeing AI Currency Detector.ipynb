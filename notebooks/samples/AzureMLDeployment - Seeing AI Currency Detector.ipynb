{
 "cells": [
  {
   "cell_type": "markdown",
   "metadata": {},
   "source": [
    "## Unsupervised Currency Detection with Microsoft ML for Apache Spark\n",
    "\n",
    "<img src=\"https://mmlspark.blob.core.windows.net/graphics/SparkSummit2019/ray.jpg\" width=\"600\"/>"
   ]
  },
  {
   "cell_type": "markdown",
   "metadata": {},
   "source": [
    "<img src=\"https://mmlspark.blob.core.windows.net/graphics/SparkSummit2019/examples2.jpg\" width=\"600\"/>"
   ]
  },
  {
   "cell_type": "code",
   "execution_count": 1,
   "metadata": {},
   "outputs": [],
   "source": [
    "import os\n",
    "\n",
    "# WARNING this notebook requires alot of memory.\n",
    "# If you get a heap space error, try dropping the number of images bing returns\n",
    "# or by writing out the images to parquet first\n",
    "\n",
    "# Replace the following with a line like: BING_IMAGE_SEARCH_KEY =  \"hdwo2oyd3o928s.....\"\n",
    "BING_IMAGE_SEARCH_KEY = \"964abe07c7c3451b93faefdbccf1ad2a\" #please add your key here"
   ]
  },
  {
   "cell_type": "code",
   "execution_count": 2,
   "metadata": {},
   "outputs": [],
   "source": [
    "import pyspark\n",
    "spark = pyspark.sql.SparkSession.builder.appName(\"MyApp\") \\\n",
    "    .config(\"spark.jars.packages\", \"Azure:mmlspark:0.17\") \\\n",
    "    .config(\"spark.executor.memory\", \"2g\") \\\n",
    "    .config(\"spark.driver.memory\", \"2g\") \\\n",
    "    .getOrCreate()"
   ]
  },
  {
   "cell_type": "code",
   "execution_count": 3,
   "metadata": {},
   "outputs": [],
   "source": [
    "from mmlspark import *\n",
    "from mmlspark import FluentAPI\n",
    "import os\n",
    "from pyspark.sql.functions import lit\n",
    "\n",
    "def bingPhotoSearch(name, queries, pages):\n",
    "  offsets = [offset*10 for offset in range(0, pages)] \n",
    "  parameters = [(query, offset) for offset in offsets for query in queries]\n",
    "  \n",
    "  return spark.createDataFrame(parameters, (\"queries\", \"offsets\")) \\\n",
    "    .mlTransform(\n",
    "      BingImageSearch()                             # Apply Bing Image Search\n",
    "        .setSubscriptionKey(BING_IMAGE_SEARCH_KEY)  # Set the API Key\n",
    "        .setOffsetCol(\"offsets\")                    # Specify a column containing the offsets\n",
    "        .setQueryCol(\"queries\")                     # Specify a column containing the query words\n",
    "        .setCount(10)                               # Specify the number of images to return per offset\n",
    "        .setImageType(\"photo\")                      # Specify a filter to ensure we get photos\n",
    "        .setOutputCol(\"images\")) \\\n",
    "    .mlTransform(BingImageSearch.getUrlTransformer(\"images\", \"urls\")) \\\n",
    "    .withColumn(\"labels\", lit(name))\n"
   ]
  },
  {
   "cell_type": "markdown",
   "metadata": {},
   "source": [
    "<img src=\"https://mmlspark.blob.core.windows.net/graphics/SparkSummit2019/cosos.jpg\" width=\"800\" style=\"float: center;\"/>"
   ]
  },
  {
   "cell_type": "code",
   "execution_count": 4,
   "metadata": {},
   "outputs": [],
   "source": [
    "from IPython.display import HTML\n",
    "from IPython.display import display\n",
    "\n",
    "def makeTableHTML(df, n, image_cols = set([\"urls\"])):\n",
    "  rows = df.take(n)\n",
    "  cols = df.columns\n",
    "  header = \"\".join([\"<th>\" + c  + \"</th>\" for c in cols])\n",
    "  \n",
    "  table = []\n",
    "  for row in rows:\n",
    "    table.append(\"<tr>\")\n",
    "    for col in cols:\n",
    "      if col in image_cols:\n",
    "        rep = '<img src=\"{}\",  width=\"100\">'.format(row[col])\n",
    "      else:\n",
    "        rep = row[col]\n",
    "      table.append(\"<td>{}</td>\".format(rep))\n",
    "    table.append(\"</tr>\")\n",
    "  tableHTML1 = \"\".join(table)\n",
    "  tableHTML2 = \"\"\"\n",
    "<table>\n",
    "<tr>\n",
    "{} \n",
    "</tr>\n",
    "{}\n",
    "</table>\n",
    "  \"\"\".format(header, tableHTML1)\n",
    "  return tableHTML2\n",
    "  \n",
    "def displayDFs(dfs, n=5, image_cols = set([\"urls\"])):  \n",
    "  style = \"\"\"\n",
    "<!DOCTYPE html>\n",
    "<html>\n",
    "<head>\n",
    "<style>\n",
    "table {\n",
    "    font-family: arial, sans-serif;\n",
    "    border-collapse: collapse;\n",
    "    width: 220;\n",
    "    float: left;\n",
    "    margin: 10px;\n",
    "}\n",
    "\n",
    "td, th {\n",
    "    border: 1px solid #dddddd;\n",
    "    text-align: left;\n",
    "    padding: 8px;\n",
    "}\n",
    "\n",
    "tr:nth-child(even) {\n",
    "    background-color: #dddddd;\n",
    "}\n",
    "</style>\n",
    "</head>\"\"\"\n",
    "  \n",
    "  tableHTMLs = [makeTableHTML(df, n, image_cols) for df in dfs]\n",
    "  \n",
    "  fullHTML = \"\".join([style, \"<body>\"] + tableHTMLs + [\"</body></html>\"])\n",
    "  try:\n",
    "    display(HTML(fullHTML))\n",
    "  except:\n",
    "    pass"
   ]
  },
  {
   "cell_type": "code",
   "execution_count": 5,
   "metadata": {},
   "outputs": [
    {
     "data": {
      "text/html": [
       "\n",
       "<!DOCTYPE html>\n",
       "<html>\n",
       "<head>\n",
       "<style>\n",
       "table {\n",
       "    font-family: arial, sans-serif;\n",
       "    border-collapse: collapse;\n",
       "    width: 220;\n",
       "    float: left;\n",
       "    margin: 10px;\n",
       "}\n",
       "\n",
       "td, th {\n",
       "    border: 1px solid #dddddd;\n",
       "    text-align: left;\n",
       "    padding: 8px;\n",
       "}\n",
       "\n",
       "tr:nth-child(even) {\n",
       "    background-color: #dddddd;\n",
       "}\n",
       "</style>\n",
       "</head><body>\n",
       "<table>\n",
       "<tr>\n",
       "<th>urls</th><th>labels</th> \n",
       "</tr>\n",
       "<tr><td><img src=\"https://upload.wikimedia.org/wikipedia/commons/thumb/2/23/US_one_dollar_bill%2C_obverse%2C_series_2009.jpg/1200px-US_one_dollar_bill%2C_obverse%2C_series_2009.jpg\",  width=\"100\"></td><td>1</td></tr><tr><td><img src=\"http://upload.wikimedia.org/wikipedia/commons/4/44/SilverCertificate1Dollar.jpg\",  width=\"100\"></td><td>1</td></tr><tr><td><img src=\"http://i.ebayimg.com/images/i/121479940346-0-1/s-l1000.jpg\",  width=\"100\"></td><td>1</td></tr><tr><td><img src=\"http://4.bp.blogspot.com/_3oXBWs88sdc/TEpr-XVirQI/AAAAAAAAACw/Mr7eYWmJRzA/s1600/1DollarBillPlain.jpg\",  width=\"100\"></td><td>1</td></tr><tr><td><img src=\"https://cabaretecondos.com/content/wp-content/uploads/2014/08/one-dollar.jpg\",  width=\"100\"></td><td>1</td></tr>\n",
       "</table>\n",
       "  \n",
       "<table>\n",
       "<tr>\n",
       "<th>urls</th><th>labels</th> \n",
       "</tr>\n",
       "<tr><td><img src=\"http://i.ebayimg.com/00/s/MjIzWDUwMA==/z/D24AAOxy63FSuLdZ/$_3.JPG?set_id=2\",  width=\"100\"></td><td>5</td></tr><tr><td><img src=\"http://i.ebayimg.com/images/i/221785910154-0-1/s-l1000.jpg\",  width=\"100\"></td><td>5</td></tr><tr><td><img src=\"https://abrahamlincolnatgettysburg.files.wordpress.com/2015/02/w5dollar.jpg\",  width=\"100\"></td><td>5</td></tr><tr><td><img src=\"http://i.ebayimg.com/images/i/281706516246-0-1/s-l1000.jpg\",  width=\"100\"></td><td>5</td></tr><tr><td><img src=\"http://oldcurrencyvalues.com/wp-content/uploads/2018/08/80ce896a-8ecf-47a4-a9f0-56ed2b8f89b6-e1533629964311.jpeg\",  width=\"100\"></td><td>5</td></tr>\n",
       "</table>\n",
       "  \n",
       "<table>\n",
       "<tr>\n",
       "<th>urls</th><th>labels</th> \n",
       "</tr>\n",
       "<tr><td><img src=\"http://static3.businessinsider.com/image/5582ba3069bedd326899268d-4160-3120/10-dollar-bill-3.jpg\",  width=\"100\"></td><td>10</td></tr><tr><td><img src=\"http://stuffnobodycaresabout.com/wp-content/uploads/2015/06/10-dollar-bill.jpg\",  width=\"100\"></td><td>10</td></tr><tr><td><img src=\"https://www.history.com/.image/ar_16:9%2Cc_fill%2Ccs_srgb%2Cfl_progressive%2Cg_faces:center%2Cq_auto:good%2Cw_768/MTU3OTIzNTc2MTE2ODgxMzU4/woman-to-be-featured-on-newly-redesigned-10-bill-treasury-announcess-featured-photo.jpg\",  width=\"100\"></td><td>10</td></tr><tr><td><img src=\"http://images.csmonitor.com/csm/2015/06/915188_1_0618-ten-dollar-bill_standard.jpg?alias=standard_900x600\",  width=\"100\"></td><td>10</td></tr><tr><td><img src=\"https://foreignpolicyi.org/wp-content/uploads/2018/07/Do-you-know-why-Alexander-Hamilton-is-on-10-dollar-bill.jpg\",  width=\"100\"></td><td>10</td></tr>\n",
       "</table>\n",
       "  \n",
       "<table>\n",
       "<tr>\n",
       "<th>urls</th><th>labels</th> \n",
       "</tr>\n",
       "<tr><td><img src=\"https://i.ytimg.com/vi/zpBkZks5Qrc/maxresdefault.jpg\",  width=\"100\"></td><td>20</td></tr><tr><td><img src=\"http://www.leftovercurrency.com/Resources/federal-reserve-note-20-USD-united-states-dollars-andrew-jackson.jpg\",  width=\"100\"></td><td>20</td></tr><tr><td><img src=\"https://2012patriot.files.wordpress.com/2011/05/20twentydollarbill.jpg\",  width=\"100\"></td><td>20</td></tr><tr><td><img src=\"https://www.leftovercurrency.com/wp-content/uploads/2016/11/20-american-dollars-banknote-obverse-1.jpg\",  width=\"100\"></td><td>20</td></tr><tr><td><img src=\"https://i.ytimg.com/vi/RaUSwtzCZoA/maxresdefault.jpg\",  width=\"100\"></td><td>20</td></tr>\n",
       "</table>\n",
       "  </body></html>"
      ],
      "text/plain": [
       "<IPython.core.display.HTML object>"
      ]
     },
     "metadata": {},
     "output_type": "display_data"
    }
   ],
   "source": [
    "urls1 = bingPhotoSearch(\"1\", [\"1 dollar\",\"1 dollar bill on table\", \"1 dollar bill\"], pages=10)\n",
    "urls5 = bingPhotoSearch(\"5\", [ \"5 dollar bill\", \"5 dollar bill on table\", \"5 dollars\"], pages=10)\n",
    "urls10 = bingPhotoSearch(\"10\", [\"10 dollar bill\", \"10 dollar bill on table\", \"10 dollars\"], pages=10)\n",
    "urls20 = bingPhotoSearch(\"20\", [\"20 dollars\", \"20 dollar bill on table\", \"20 dollar bill\"], pages=10)\n",
    "\n",
    "displayDFs([urls1, urls5, urls10, urls20], n=5)"
   ]
  },
  {
   "cell_type": "code",
   "execution_count": 6,
   "metadata": {},
   "outputs": [],
   "source": [
    "images = urls1.union(urls5).union(urls10).union(urls20)\\\n",
    "  .repartition(100)\\\n",
    "  .mlTransform(BingImageSearch.downloadFromUrls(\"urls\", \"image\", concurrency=5, timeout=5000))\\\n",
    "  .dropna()\n",
    "\n",
    "train, test = images.randomSplit([.7,.3], seed=1)"
   ]
  },
  {
   "cell_type": "code",
   "execution_count": 7,
   "metadata": {},
   "outputs": [],
   "source": [
    "train.write.mode(\"overwrite\").parquet(\"train.parquet\")\n",
    "test.write.mode(\"overwrite\").parquet(\"test.parquet\")\n",
    "train = spark.read.parquet(\"train.parquet\")"
   ]
  },
  {
   "cell_type": "code",
   "execution_count": 8,
   "metadata": {
    "scrolled": false
   },
   "outputs": [],
   "source": [
    "from pyspark.ml import Pipeline, PipelineModel\n",
    "from pyspark.ml.feature import StringIndexer, IndexToString\n",
    "from pyspark.ml.classification import LogisticRegression\n",
    "from pyspark.sql.functions import udf\n",
    "\n",
    "network = ModelDownloader(spark, \"Models/\").downloadByName(\"ResNet50\")\n",
    "\n",
    "model = Pipeline(stages=[\n",
    "  StringIndexer(inputCol = \"labels\", outputCol=\"index\"),\n",
    "  ImageFeaturizer(inputCol=\"image\", outputCol=\"features\", cutOutputLayers=2).setMiniBatchSize(2).setModel(network),\n",
    "  LogisticRegression(maxIter=5, labelCol=\"index\", regParam=1.0)\n",
    "])\n",
    "\n",
    "fitModel = model.fit(train)\n",
    "indexToString = IndexToString(labels=fitModel.stages[0].labels, inputCol=\"prediction\", outputCol=\"predictedLabels\")\n",
    "fitModel = PipelineModel(stages=[fitModel, indexToString])"
   ]
  },
  {
   "cell_type": "markdown",
   "metadata": {},
   "source": [
    "<img src=\"https://mmlspark.blob.core.windows.net/graphics/SparkSummit2019/e2e6.jpg\" width=\"600\">"
   ]
  },
  {
   "cell_type": "code",
   "execution_count": 13,
   "metadata": {},
   "outputs": [],
   "source": [
    "%matplotlib inline"
   ]
  },
  {
   "cell_type": "code",
   "execution_count": 14,
   "metadata": {},
   "outputs": [
    {
     "data": {
      "image/png": "[encoded data removed]",
      "text/plain": [
       "<Figure size 324x324 with 2 Axes>"
      ]
     },
     "metadata": {},
     "output_type": "display_data"
    },
    {
     "data": {
      "image/png": "[encoded data removed]",
      "text/plain": [
       "<Figure size 324x324 with 2 Axes>"
      ]
     },
     "metadata": {
      "needs_background": "light"
     },
     "output_type": "display_data"
    }
   ],
   "source": [
    "def plotConfusionMatrix(df, label, prediction, classLabels):\n",
    "  from mmlspark.plot import confusionMatrix\n",
    "  import matplotlib.pyplot as plt\n",
    "  fig = plt.figure(figsize=(4.5, 4.5))\n",
    "  confusionMatrix(df, label, prediction, classLabels)\n",
    "  display(fig)\n",
    "\n",
    "test = spark.read.parquet(\"test.parquet\")\n",
    "plotConfusionMatrix(fitModel.transform(test), \"index\", \"prediction\", fitModel.stages[0].stages[0].labels)"
   ]
  },
  {
   "cell_type": "code",
   "execution_count": 15,
   "metadata": {},
   "outputs": [],
   "source": [
    "from __future__ import print_function\n",
    "import os\n",
    "from azureml.core.authentication import (\n",
    "    AzureCliAuthentication, InteractiveLoginAuthentication,\n",
    "    ServicePrincipalAuthentication, AuthenticationException)\n",
    "\n",
    "def get_auth():\n",
    "    \"\"\"Get an auth object for use with Workspace objects.\"\"\"\n",
    "    if os.environ.get(\"AML_SP_PASSWORD\", None):\n",
    "        print(\"Trying to create Workspace with Service Principal\")\n",
    "        aml_sp_password = os.environ.get(\"AML_SP_PASSWORD\")\n",
    "        aml_sp_tenant_id = os.environ.get(\"AML_SP_TENANT_ID\")\n",
    "        aml_sp_username = os.environ.get(\"AML_SP_USERNAME\")\n",
    "        auth = ServicePrincipalAuthentication(\n",
    "            tenant_id=aml_sp_tenant_id,\n",
    "            service_principal_id=aml_sp_username,\n",
    "            service_principal_password=aml_sp_password\n",
    "        )\n",
    "    else:\n",
    "        print(\"Trying to create Workspace with CLI Authentication\")\n",
    "        try:\n",
    "            auth = AzureCliAuthentication()\n",
    "            auth.get_authentication_header()\n",
    "        except AuthenticationException:\n",
    "            print(\"Trying to create Workspace with Interactive login\")\n",
    "            auth = InteractiveLoginAuthentication()\n",
    "    return auth"
   ]
  },
  {
   "cell_type": "code",
   "execution_count": 16,
   "metadata": {},
   "outputs": [
    {
     "name": "stdout",
     "output_type": "stream",
     "text": [
      "azureml.core.VERSION=1.0.33\n"
     ]
    }
   ],
   "source": [
    "from azureml.core import Workspace\n",
    "import azureml.core\n",
    "print(\"azureml.core.VERSION=\" + azureml.core.VERSION)"
   ]
  },
  {
   "cell_type": "code",
   "execution_count": 17,
   "metadata": {},
   "outputs": [
    {
     "name": "stdout",
     "output_type": "stream",
     "text": [
      "Trying to create Workspace with CLI Authentication\n"
     ]
    },
    {
     "name": "stderr",
     "output_type": "stream",
     "text": [
      "UserWarning: The resource group doesn't exist or was not provided. AzureML SDK is creating a resource group=mmlspark in location=eastus2 using subscription=edf507a2-6235-46c5-b560-fd463ba2e771.\n"
     ]
    },
    {
     "name": "stdout",
     "output_type": "stream",
     "text": [
      "Deploying StorageAccount with name mmlsparkstorageed45531bc.\n",
      "Deploying AppInsights with name mmlsparkinsights13d1328c.\n",
      "Deployed AppInsights with name mmlsparkinsights13d1328c.\n",
      "Deploying KeyVault with name mmlsparkkeyvaultecd8e29a.\n",
      "Deploying Workspace with name mmlspark.\n",
      "Deployed KeyVault with name mmlsparkkeyvaultecd8e29a.\n",
      "Deployed StorageAccount with name mmlsparkstorageed45531bc.\n",
      "Deployed Workspace with name mmlspark.\n"
     ]
    }
   ],
   "source": [
    "auth = get_auth()\n",
    "ws = Workspace.create(name='mmlspark',\n",
    "                      subscription_id=\"edf507a2-6235-46c5-b560-fd463ba2e771\",\n",
    "                      resource_group=\"mmlspark\",\n",
    "                      create_resource_group=True,\n",
    "                      exist_ok=True,\n",
    "                      location='eastus2',\n",
    "                      auth=auth)\n",
    "ws.write_config()"
   ]
  },
  {
   "cell_type": "code",
   "execution_count": 20,
   "metadata": {},
   "outputs": [
    {
     "name": "stdout",
     "output_type": "stream",
     "text": [
      "SDK version: \n",
      "1.0.33\n",
      "Workspace name: mmlspark\n",
      "Azure region: eastus2\n",
      "Subscription id: edf507a2-6235-46c5-b560-fd463ba2e771\n",
      "Resource group: mmlspark\n"
     ]
    }
   ],
   "source": [
    "print('SDK version: ', azureml.core.VERSION,\n",
    "      'Workspace name: ' + ws.name, \n",
    "      'Azure region: ' + ws.location, \n",
    "      'Subscription id: ' + ws.subscription_id, \n",
    "      'Resource group: ' + ws.resource_group, sep = '\\n')"
   ]
  },
  {
   "cell_type": "code",
   "execution_count": 24,
   "metadata": {},
   "outputs": [
    {
     "name": "stdout",
     "output_type": "stream",
     "text": [
      "Registering model SeeingAIModel.mml\n",
      "SeeingAIModel.mml None 1\n"
     ]
    }
   ],
   "source": [
    "import os\n",
    "from azureml.core.model import Model\n",
    "\n",
    "model_name = \"SeeingAIModel.mml\"\n",
    "model_path = model_name\n",
    "fitModel.write().overwrite().save(model_name) \n",
    "amlmodel = Model.register(model_path = model_path, model_name = model_name, workspace = ws)\n",
    "print(amlmodel.name, amlmodel.description, amlmodel.version)"
   ]
  },
  {
   "cell_type": "code",
   "execution_count": 25,
   "metadata": {},
   "outputs": [
    {
     "name": "stdout",
     "output_type": "stream",
     "text": [
      "Overwriting score_sparkml.py\n"
     ]
    }
   ],
   "source": [
    "%%writefile score_sparkml.py\n",
    "from time import sleep\n",
    "from uuid import uuid4\n",
    "from azureml.core.model import Model\n",
    "from pyspark.ml import PipelineModel\n",
    "from pyspark.sql import SparkSession\n",
    "from pyspark.sql.types import *\n",
    "import requests, os, json\n",
    "import base64\n",
    "\n",
    "def init():\n",
    "    spark = SparkSession.builder\\\n",
    "      .config(\"spark.jars.packages\", \"com.microsoft.ml.spark:mmlspark_2.11:0.16.dev20\")\\\n",
    "      .config(\"spark.jars.repositories\", \"https://mmlspark.azureedge.net/maven\")\\\n",
    "      .master(\"local[*]\")\\\n",
    "      .appName(\"Model Server\").getOrCreate()\n",
    "    import mmlspark\n",
    "\n",
    "    model_path = Model.get_model_path(\"SeeingAIModel.mml\")\n",
    "    model = PipelineModel.load(model_path)\n",
    "    model.stages[0].stages[1].setMiniBatchSize(1) \n",
    "    \n",
    "    server = (spark.readStream.continuousServer()\n",
    "        .address(\"localhost\", 8089, \"predict\")\n",
    "        .option(\"path\", \"predict\")\n",
    "        .load()\n",
    "        .parseRequest(\"predict\", BinaryType())\n",
    "        .withColumnRenamed(\"bytes\", \"image\")\n",
    "        .mlTransform(model)\n",
    "        .makeReply(\"predictedLabels\")\n",
    "        .writeStream.continuousServer()\n",
    "        .trigger(continuous=\"30 seconds\")\n",
    "        .replyTo(\"predict\")\n",
    "        .queryName(\"prediction\")\n",
    "        .option(\"checkpointLocation\", os.path.join('/tmp', 'checkpoints', uuid4().hex))\n",
    "        .start())\n",
    "    sleep(1)\n",
    "\n",
    "def run(input_json):\n",
    "    try:\n",
    "        image_url = json.loads(input_json)[\"url\"]\n",
    "        return requests.post(data=requests.get(image_url).content, url='http://localhost:8089/predict').json()\n",
    "    except Exception as e:\n",
    "        return {\"error\": str(e)}"
   ]
  },
  {
   "cell_type": "code",
   "execution_count": 26,
   "metadata": {},
   "outputs": [
    {
     "name": "stdout",
     "output_type": "stream",
     "text": [
      "Creating image\n",
      "Image creation operation finished for image currencydetector:1, operation \"Succeeded\"\n",
      "Creating service\n",
      "Running.........................................\n",
      "SucceededACI service creation operation finished, operation \"Succeeded\"\n"
     ]
    }
   ],
   "source": [
    "from azureml.core.webservice import AciWebservice, Webservice\n",
    "from azureml.core.conda_dependencies import CondaDependencies\n",
    "from azureml.core.image import ContainerImage\n",
    "\n",
    "with open(\"myenv.yaml\",\"w\") as f:\n",
    "    f.write(CondaDependencies.create(\n",
    "      conda_packages=['requests', 'pyspark'],\n",
    "      pip_packages=['azureml-core']).serialize_to_string())\n",
    "\n",
    "image_config = ContainerImage.image_configuration(\n",
    "  execution_script=\"score_sparkml.py\", \n",
    "  runtime=\"python\",\n",
    "  conda_file=\"myenv.yaml\",\n",
    "  base_image=\"mhamilton723/pyspark:0.2\")\n",
    "\n",
    "# Webservice creation\n",
    "service = Webservice.deploy_from_model(\n",
    "  workspace=ws, \n",
    "  name=\"currencydetector\",\n",
    "  deployment_config = AciWebservice.deploy_configuration(cpu_cores = 2, memory_gb = 4),\n",
    "  models = [amlmodel],\n",
    "  image_config = image_config)\n",
    "\n",
    "service.wait_for_deployment(show_output=True)"
   ]
  },
  {
   "cell_type": "code",
   "execution_count": null,
   "metadata": {},
   "outputs": [],
   "source": [
    "image_json =  \"\"\"{\"url\":\"https://mmlspark.blob.core.windows.net/graphics/SparkSummit2019/10dollarbill.jpg\"}\"\"\"\n",
    "resp = requests.post(url=\"http://{}:80/score\".format(service.public_ip),\n",
    "                     data=image_json,\n",
    "                     headers={\"Content-Type\": \"application/json\"})\n",
    "resp.text"
   ]
  },
  {
   "cell_type": "code",
   "execution_count": null,
   "metadata": {},
   "outputs": [],
   "source": [
    "service.delete()"
   ]
  },
  {
   "cell_type": "code",
   "execution_count": null,
   "metadata": {},
   "outputs": [],
   "source": []
  }
 ],
 "metadata": {
  "anaconda-cloud": {},
  "kernelspec": {
   "display_name": "Python 3",
   "language": "python",
   "name": "python3"
  },
  "language_info": {
   "codemirror_mode": {
    "name": "ipython",
    "version": 3
   },
   "file_extension": ".py",
   "mimetype": "text/x-python",
   "name": "python",
   "nbconvert_exporter": "python",
   "pygments_lexer": "ipython3",
   "version": "3.6.7"
  },
  "name": "Seeing AI Demo",
  "notebookId": 4302542668891701
 },
 "nbformat": 4,
 "nbformat_minor": 1
}
